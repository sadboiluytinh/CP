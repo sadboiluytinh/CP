{
  "cells": [
    {
      "cell_type": "markdown",
      "metadata": {
        "id": "view-in-github",
        "colab_type": "text"
      },
      "source": [
        "<a href=\"https://colab.research.google.com/github/sadboiluytinh/CP/blob/main/ForecastingMethods.ipynb\" target=\"_parent\"><img src=\"https://colab.research.google.com/assets/colab-badge.svg\" alt=\"Open In Colab\"/></a>"
      ]
    },
    {
      "cell_type": "markdown",
      "id": "8c7a94bd",
      "metadata": {
        "id": "8c7a94bd"
      },
      "source": [
        "The purpose of this notebook is to describe a few forecasting methods, starting from the simplest and moving on to the more sophisticated, neural network driven ideas.\n",
        "\n",
        "You will find the following codes below:\n",
        "\n",
        "i) Linear Regression\n",
        "\n",
        "ii) Polynomial Regression\n",
        "\n",
        "iii) Exponential model\n",
        "\n",
        "iv) Triple exponential model\n",
        "\n",
        "v) Tensorflow feed-forward neural network\n",
        "\n",
        "vi) Long Short Term Memory neural network\n",
        "\n",
        "----------------------------------------------\n",
        "\n",
        "Examples and thorough documentation are provided for each code, and several exercises are included."
      ]
    },
    {
      "cell_type": "markdown",
      "id": "58ce23c2",
      "metadata": {
        "id": "58ce23c2"
      },
      "source": [
        "# Linear Regression\n",
        "\n",
        "In this example, the linear_regression_forecast() function takes a list of numbers (numbers) and a positive integer (k) as input. It first creates the X and y arrays for linear regression, where X represents the indices of the numbers and y represents the numbers themselves.\n",
        "\n",
        "The function then fits a linear regression model to the data using LinearRegression() from scikit-learn. Once the model is trained, it forecasts the next k values by generating a sequence of indices (forecast_indices) and predicting the corresponding values using the trained model.\n",
        "\n",
        "Finally, the function returns the forecasts as a list. In the example usage, it prints the forecasted values for the given list numbers and k=3."
      ]
    },
    {
      "cell_type": "code",
      "execution_count": null,
      "id": "161523ab",
      "metadata": {
        "id": "161523ab"
      },
      "outputs": [],
      "source": [
        "import numpy as np\n",
        "from sklearn.linear_model import LinearRegression\n",
        "\n",
        "def linear_regression_forecast(numbers, k):\n",
        "    \"\"\"\n",
        "    Perform linear regression on a list of numbers and forecast the next k values.\n",
        "\n",
        "    Parameters:\n",
        "    - numbers (list): A list of numeric values.\n",
        "    - k (int): Number of values to forecast.\n",
        "\n",
        "    Returns:\n",
        "    - forecasts (list): A list of k forecasted values.\n",
        "\n",
        "    \"\"\"\n",
        "\n",
        "    # Create X and y for linear regression\n",
        "    X = np.arange(len(numbers)).reshape(-1, 1)\n",
        "    y = np.array(numbers)\n",
        "\n",
        "    # Fit linear regression model\n",
        "    model = LinearRegression()\n",
        "    model.fit(X, y)\n",
        "\n",
        "    # Forecast next k values\n",
        "    last_index = len(numbers) - 1\n",
        "    forecast_indices = np.arange(last_index + 1, last_index + k + 1).reshape(-1, 1)\n",
        "    forecasts = model.predict(forecast_indices)\n",
        "\n",
        "    return forecasts.tolist()\n"
      ]
    },
    {
      "cell_type": "code",
      "execution_count": null,
      "id": "594ecdc3",
      "metadata": {
        "colab": {
          "base_uri": "https://localhost:8080/"
        },
        "id": "594ecdc3",
        "outputId": "98b3317d-3d25-4d04-fd35-4aac68638fef"
      },
      "outputs": [
        {
          "output_type": "stream",
          "name": "stdout",
          "text": [
            "Forecasted values: [34.73333333333333, 38.3030303030303, 41.87272727272727]\n"
          ]
        }
      ],
      "source": [
        "# Example:\n",
        "\n",
        "# Example usage\n",
        "numbers = [2,3,5,9,11,16,20,23,29,33]\n",
        "k = 3\n",
        "\n",
        "forecasts = linear_regression_forecast(numbers, k)\n",
        "print(\"Forecasted values:\", forecasts)\n"
      ]
    },
    {
      "cell_type": "markdown",
      "id": "acddf5a3",
      "metadata": {
        "id": "acddf5a3"
      },
      "source": [
        "# Exercise 1:\n",
        "\n",
        "Test the code above on a data set that is not very linear and convince yourself that linear regression, while a powerful took, has serious limitations."
      ]
    },
    {
      "cell_type": "markdown",
      "id": "2c9a7565",
      "metadata": {
        "id": "2c9a7565"
      },
      "source": [
        "# Exercise 2:\n",
        "\n",
        "Read up on the mathematics of linear regression and discuss it with your group."
      ]
    },
    {
      "cell_type": "markdown",
      "source": [
        "Linear Regression: $Y = b_0+b_1X+\\epsilon$ with $Y$ is the output value, $b_0$ is the constant value, $b_1$ is the angle and $\\epsilon$ is the error.\n",
        "\n",
        "Use the square loss function $l(h,(x,y)) = (h(x)-y)^2 \\implies L_S(h) = \\frac{1}{n} \\sum_{i=1}^m(h(x_i)-y_i)^2$. Minimize so take the gradient to be $0$\n",
        "\n",
        "We see that if $w_0,w_1$ is the solution satisfying $\\hat{Y} = w_0X+w_1$ such that $L(w) = \\frac{1}{n} \\sum_{i=1}^n (w_0x_i+w_1)^2$ is minimal\n",
        "\n",
        "Taking the derivative wrt $w_0,w_1$ and we will find such line\n",
        "\n",
        "We can also do gradient descent on learning rate $L$, with\n",
        "$m = m-LD_m,c = c-LD_c$\n",
        "\n",
        "Repeating again and again\n",
        "\n",
        "\n"
      ],
      "metadata": {
        "id": "-q3TKMQbLAG4"
      },
      "id": "-q3TKMQbLAG4"
    },
    {
      "cell_type": "markdown",
      "id": "3ba3497d",
      "metadata": {
        "id": "3ba3497d"
      },
      "source": [
        "# Polynomial regression\n",
        "\n",
        "In this code, the polynomial_regression_forecast() function is described along with its parameters, return value, and an example usage. The parameters are explained, indicating that numbers should be a list of numeric values, k should be the number of values to forecast, and n should be the maximum degree of the polynomial.\n",
        "\n",
        "The return value is described as a list of forecasted values. The example usage demonstrates how to use the function, showing the expected input and the resulting forecasted values.\n",
        "\n",
        "The function uses the PolynomialFeatures class from scikit-learn to transform the input features X into polynomial features of degree n. It then fits a linear regression model using LinearRegression() from scikit-learn.\n",
        "\n",
        "The documentation is formatted using the docstring conventions in Python, making it easily readable and accessible for users who want to understand and utilize the function."
      ]
    },
    {
      "cell_type": "code",
      "execution_count": null,
      "id": "4eef0d64",
      "metadata": {
        "id": "4eef0d64"
      },
      "outputs": [],
      "source": [
        "import numpy as np\n",
        "from sklearn.preprocessing import PolynomialFeatures\n",
        "from sklearn.linear_model import LinearRegression\n",
        "\n",
        "def polynomial_regression_forecast(numbers, k, n):\n",
        "    \"\"\"\n",
        "    Perform polynomial regression on a list of numbers and forecast the next k values using polynomials of degree at most n.\n",
        "\n",
        "    Parameters:\n",
        "    - numbers (list): A list of numeric values.\n",
        "    - k (int): Number of values to forecast.\n",
        "    - n (int): Maximum degree of the polynomial.\n",
        "\n",
        "    Returns:\n",
        "    - forecasts (list): A list of k forecasted values.\n",
        "\n",
        "\n",
        "    \"\"\"\n",
        "\n",
        "    # Create X and y for polynomial regression\n",
        "    X = np.arange(len(numbers)).reshape(-1, 1)\n",
        "    y = np.array(numbers)\n",
        "\n",
        "    # Transform X to include polynomial features\n",
        "    polynomial_features = PolynomialFeatures(degree=n)\n",
        "    X_poly = polynomial_features.fit_transform(X)\n",
        "\n",
        "    # Fit polynomial regression model\n",
        "    model = LinearRegression()\n",
        "    model.fit(X_poly, y)\n",
        "\n",
        "    # Forecast next k values\n",
        "    last_index = len(numbers) - 1\n",
        "    forecast_indices = np.arange(last_index + 1, last_index + k + 1).reshape(-1, 1)\n",
        "    forecast_indices_poly = polynomial_features.transform(forecast_indices)\n",
        "    forecasts = model.predict(forecast_indices_poly)\n",
        "\n",
        "    return forecasts.tolist()\n"
      ]
    },
    {
      "cell_type": "code",
      "execution_count": null,
      "id": "7e6a4f10",
      "metadata": {
        "colab": {
          "base_uri": "https://localhost:8080/"
        },
        "id": "7e6a4f10",
        "outputId": "2a053c4b-9f3b-4a13-9be4-3096783405d8"
      },
      "outputs": [
        {
          "output_type": "stream",
          "name": "stdout",
          "text": [
            "Forecasted values: [16917554012034.125, 212858807385986.12, 1477960510365570.0, 7458506921697154.0, 3.049242597611098e+16, 1.0694561994403827e+17, 3.3323601091044134e+17, 9.44261938919727e+17, 2.473830824639947e+18]\n"
          ]
        }
      ],
      "source": [
        "# Example:\n",
        "\n",
        "numbers = [5,4,1548,1484,84919,15848,1514841115,5445454,54545451516,15155646,159484,15799,0,-1,48,849565]\n",
        "k = 9\n",
        "n = 15\n",
        "forecasts = polynomial_regression_forecast(numbers, k, n)\n",
        "print(\"Forecasted values:\", forecasts)"
      ]
    },
    {
      "cell_type": "markdown",
      "id": "805ac38f",
      "metadata": {
        "id": "805ac38f"
      },
      "source": [
        "# Exercise 3:\n",
        "\n",
        "Test the code above with $N=2$ on cubic data, linear data, etc, and get a good feel for the limitations of the method. Try to be as systematic as you can given the time limitations."
      ]
    },
    {
      "cell_type": "markdown",
      "id": "ebb4d646",
      "metadata": {
        "id": "ebb4d646"
      },
      "source": [
        "# Exercise 4:\n",
        "\n",
        "Read up on the mathematics of polynomial regression and discuss it with your group."
      ]
    },
    {
      "cell_type": "markdown",
      "source": [
        "Polynomial regression: Similarly, using Least square algorithm\n",
        "\n",
        "Limitations: There might be \"outstanding\" data that makes the algorithm does not work\n",
        "\n",
        "Suppose we work on\n",
        "$$Y = c_0+c_1X+c_2X^2+\\cdots+c_nX^n+\\varepsilon$$\n",
        "Then, we see that if we can work on $\\hat{Y} = w_0+w_1X+w_2X^2+\\cdots+w_nX^n$, then we neet to minimize $|\\hat{Y}-Y|$ by working on gradient\n"
      ],
      "metadata": {
        "id": "a27qW3yPNcMO"
      },
      "id": "a27qW3yPNcMO"
    },
    {
      "cell_type": "markdown",
      "id": "9561aae7",
      "metadata": {
        "id": "9561aae7"
      },
      "source": [
        "# The exponential model:\n",
        "\n",
        "In this example, the exponential_forecast() function takes a list of real numbers (numbers) and a positive integer (k) as input. It computes the exponential growth rate by dividing the last number by the second-to-last number in the list.\n",
        "\n",
        "Using the growth rate, it then forecasts the next k values by multiplying the last value in the list by successive powers of the growth rate.\n",
        "\n",
        "Finally, the function returns the forecasts as a list. In the example usage, it prints the forecasted values for the given list numbers and k=3 using the exponential model."
      ]
    },
    {
      "cell_type": "code",
      "execution_count": null,
      "id": "63ad63a5",
      "metadata": {
        "id": "63ad63a5"
      },
      "outputs": [],
      "source": [
        "import numpy as np\n",
        "\n",
        "def exponential_forecast(numbers, k):\n",
        "    \"\"\"\n",
        "    Perform exponential forecasting on a list of real numbers and forecast the next k values using the exponential model.\n",
        "\n",
        "    Parameters:\n",
        "    - numbers (list): A list of real numbers.\n",
        "    - k (int): Number of values to forecast.\n",
        "\n",
        "    Returns:\n",
        "    - forecasts (list): A list of k forecasted values.\n",
        "\n",
        "    Example Usage:\n",
        "    >>> numbers = [1, 2, 4, 8, 16]\n",
        "    >>> k = 3\n",
        "    >>> forecasts = exponential_forecast(numbers, k)\n",
        "    >>> print(\"Forecasted values:\", forecasts)\n",
        "    Forecasted values: [32.0, 64.0, 128.0]\n",
        "    \"\"\"\n",
        "    X = np.arange(len(numbers)).reshape(-1, 1)\n",
        "    y = np.array(numbers)\n",
        "\n",
        "    # Fit linear regression model\n",
        "    model = LinearRegression()\n",
        "    model.fit(X, np.log(y))\n",
        "    last_index = len(numbers) - 1\n",
        "    forecast_indices = np.arange(last_index + 1, last_index + k + 1).reshape(-1, 1)\n",
        "    forecasts = np.exp(model.predict(forecast_indices))\n",
        "\n",
        "    return forecasts"
      ]
    },
    {
      "cell_type": "code",
      "execution_count": null,
      "id": "5bf34338",
      "metadata": {
        "colab": {
          "base_uri": "https://localhost:8080/"
        },
        "id": "5bf34338",
        "outputId": "4b8df6dc-eda0-469d-dfc6-4e4528bbdd07"
      },
      "outputs": [
        {
          "output_type": "stream",
          "name": "stdout",
          "text": [
            "Forecasted values: [1.48599429 1.60055409 1.72394564]\n"
          ]
        }
      ],
      "source": [
        "# Example\n",
        "\n",
        "numbers = [1,1,1,1,1,1,2]\n",
        "k = 3\n",
        "\n",
        "forecasts = exponential_forecast(numbers, k)\n",
        "print(\"Forecasted values:\", forecasts)\n"
      ]
    },
    {
      "cell_type": "markdown",
      "id": "629d912b",
      "metadata": {
        "id": "629d912b"
      },
      "source": [
        "# Exercise 5:\n",
        "\n",
        "This time things need to be done in a slightly reverse order. Read up on how the exponential model works and discuss it with the other participants."
      ]
    },
    {
      "cell_type": "markdown",
      "id": "2071a4d7",
      "metadata": {
        "id": "2071a4d7"
      },
      "source": [
        "# Exercise 6:\n",
        "\n",
        "Find data sets that the exponential model gives fairly accurate predictions for. By the way, what constitutes an accurate prediction? Read up on some error measurement methods. Also find some data sets that the exponential model is not particularly accurate on."
      ]
    },
    {
      "cell_type": "markdown",
      "id": "6051fb99",
      "metadata": {
        "id": "6051fb99"
      },
      "source": [
        "# The triple exponential model\n",
        "\n",
        "In this function, we use the ExponentialSmoothing class from the statsmodels.tsa.holtwinters module to perform the triple exponential smoothing. The trend parameter is set to \"add\" to capture any additive trend, and the seasonal parameter is set to \"add\" with seasonal_periods set to 4 to capture any additive seasonal patterns.\n",
        "\n",
        "To use this function, you can pass your time series data as a list of numbers and the desired number of forecasted values k. The function will return a list of the forecasted values for the next k periods."
      ]
    },
    {
      "cell_type": "code",
      "execution_count": null,
      "id": "bccece68",
      "metadata": {
        "id": "bccece68"
      },
      "outputs": [],
      "source": [
        "from statsmodels.tsa.holtwinters import ExponentialSmoothing\n",
        "\n",
        "def triple_exponential_forecast(data, k):\n",
        "    \"\"\"\n",
        "    Generates forecasts for the next k values using triple exponential smoothing.\n",
        "\n",
        "    Args:\n",
        "    - data: A list of numbers representing the time series data.\n",
        "    - k: A positive integer indicating the number of values to forecast.\n",
        "\n",
        "    Returns:\n",
        "    - A list of forecasted values for the next k periods.\n",
        "    \"\"\"\n",
        "    model = ExponentialSmoothing(data, trend=\"add\", seasonal=\"add\", seasonal_periods=5)\n",
        "    model_fit = model.fit()\n",
        "    forecast = model_fit.forecast(k)\n",
        "\n",
        "    return forecast.tolist()\n"
      ]
    },
    {
      "cell_type": "code",
      "execution_count": null,
      "id": "9f4facbb",
      "metadata": {
        "id": "9f4facbb",
        "outputId": "1462a9e2-3dc6-4cbe-fd0c-030782738c98",
        "colab": {
          "base_uri": "https://localhost:8080/"
        }
      },
      "outputs": [
        {
          "output_type": "stream",
          "name": "stdout",
          "text": [
            "Forecasted values: [29.999989077576053, 31.999978634592086, 33.999979284191284, 35.99997096704859]\n"
          ]
        }
      ],
      "source": [
        "# Example\n",
        "\n",
        "data = [10, 12, 14, 16, 18, 20, 22, 24, 26, 28]\n",
        "k = 4\n",
        "\n",
        "forecasts = triple_exponential_forecast(data, k)\n",
        "print(f\"Forecasted values: {forecasts}\")\n"
      ]
    },
    {
      "cell_type": "markdown",
      "id": "b04617f9",
      "metadata": {
        "id": "b04617f9"
      },
      "source": [
        "# Exercise 7:\n",
        "\n",
        "Read up on how the triple exponential model works and discuss it with the other participants."
      ]
    },
    {
      "cell_type": "markdown",
      "id": "e70205e7",
      "metadata": {
        "id": "e70205e7"
      },
      "source": [
        "# Exercise 8:\n",
        "\n",
        "Find data sets that the triple exponential model gives fairly accurate predictions for. Also find some data sets that the triple exponential model is not particularly accurate on."
      ]
    },
    {
      "cell_type": "markdown",
      "id": "1af770bb",
      "metadata": {
        "id": "1af770bb"
      },
      "source": [
        "# Neural Networks\n",
        "\n",
        "We are now going to play with some neural networks. Here are som easily available packages:\n",
        "\n",
        "PyTorch: PyTorch is a widely used open-source deep learning framework developed by Facebook's AI Research Lab. It provides dynamic computation graphs and offers a flexible and intuitive interface, making it popular among researchers and practitioners.\n",
        "\n",
        "Keras: Keras is a high-level neural networks API written in Python. It acts as a user-friendly interface for various deep learning frameworks, including TensorFlow, Theano, and Microsoft Cognitive Toolkit (CNTK). Keras offers a simplified API for building neural networks, making it accessible for beginners.\n",
        "\n",
        "Caffe: Caffe is a deep learning framework developed by Berkeley AI Research (BAIR). It focuses on speed and efficiency, particularly for computer vision tasks. Caffe has a C++ interface but also provides Python and MATLAB bindings.\n",
        "\n",
        "MXNet: MXNet is an open-source deep learning framework developed by Apache. It is designed for efficiency and scalability, offering both imperative and symbolic programming interfaces. MXNet supports multiple programming languages, including Python, R, Scala, and Julia.\n",
        "\n",
        "Torch: Torch is a scientific computing framework that provides efficient support for deep learning algorithms. It offers a dynamic and efficient scripting language called Lua, which is widely used for deep learning research. Torch is popular for its simplicity and flexibility.\n",
        "\n",
        "Chainer: Chainer is a Python-based deep learning framework that provides a flexible and intuitive approach to building neural networks. It supports dynamic computation graphs and emphasizes on a \"define-by-run\" style of neural network construction.\n",
        "\n",
        "CNTK (Microsoft Cognitive Toolkit): CNTK is a deep learning framework developed by Microsoft. It offers a highly efficient library for building neural networks with support for both symbolic and imperative programming paradigms. CNTK is known for its scalability and speed.\n",
        "\n",
        "These frameworks provide a range of options with varying features and programming paradigms, allowing users to choose the one that aligns with their specific requirements and preferences."
      ]
    },
    {
      "cell_type": "markdown",
      "id": "26f7ebfa",
      "metadata": {
        "id": "26f7ebfa"
      },
      "source": [
        "# Feed-Forward Neural Network\n",
        "\n",
        "The function forecast_next_values takes in two parameters: numbers (the time series data) and k (the number of previous values to use for forecasting).\n",
        "\n",
        "The input data is prepared by creating input-output pairs for the feedforward network. X contains sequences of length k as input, and y contains the corresponding next value as the output.\n",
        "\n",
        "The data is converted to numpy arrays to be compatible with the TensorFlow model.\n",
        "\n",
        "A feedforward neural network model is created using the Sequential API from Keras. It consists of a dense layer with 10 units and ReLU activation as the input layer, followed by a dense layer with 1 unit as the output layer.\n",
        "\n",
        "The model is compiled with the mean squared error loss function and the Adam optimizer.\n",
        "\n",
        "The model is trained on the input-output pairs (X and y) for a specified number of epochs, with a batch size of 1.\n",
        "\n",
        "To generate forecasts for the next k values, the function uses the trained model. It starts with the last k values from the input data and iteratively predicts the next value using the model. The predicted value is appended to the forecasted values, and the input data is updated by shifting it one step forward and replacing the last value with the predicted value.\n",
        "\n",
        "The function returns the forecasted values for the next k periods."
      ]
    },
    {
      "cell_type": "code",
      "execution_count": 63,
      "id": "69466040",
      "metadata": {
        "id": "69466040"
      },
      "outputs": [],
      "source": [
        "import numpy as np\n",
        "import tensorflow as tf\n",
        "from tensorflow.keras.models import Sequential\n",
        "from tensorflow.keras.layers import Dense\n",
        "\n",
        "def forecast_next_values(numbers, k):\n",
        "    \"\"\"\n",
        "    This function trains a feedforward neural network on a sequence of numbers to forecast the next 'k' values in the series.\n",
        "\n",
        "    Args:\n",
        "    numbers (list): List of numbers forming a time series.\n",
        "    k (int): The number of future values to predict.\n",
        "\n",
        "    Returns:\n",
        "    forecasted_values (list): The forecasted future 'k' values.\n",
        "    \"\"\"\n",
        "\n",
        "    # Set the random seeds for reproducibility\n",
        "    np.random.seed(0)\n",
        "    tf.random.set_seed(0)\n",
        "\n",
        "    # Prepare the data for the feedforward network input\n",
        "    X, y = [], []\n",
        "    for i in range(len(numbers) - k):\n",
        "        X.append(numbers[i:i+k])\n",
        "        y.append(numbers[i+k])\n",
        "    # Convert the data to numpy arrays\n",
        "    X = np.array(X)\n",
        "    y = np.array(y)\n",
        "    print(X)\n",
        "    print(y)\n",
        "    # Create the feedforward model\n",
        "    model = Sequential()\n",
        "    model.add(Dense(10, input_dim=k, activation='relu'))  # Hidden layer with 10 neurons and ReLU activation\n",
        "    model.add(Dense(1))  # Output layer\n",
        "\n",
        "    # Compile the model with MSE as the loss function and Adam optimizer\n",
        "    model.compile(loss='mean_squared_error', optimizer='adam')\n",
        "\n",
        "    # Train the model\n",
        "    model.fit(X, y, epochs=100, batch_size=1, verbose=0)\n",
        "\n",
        "    # Use the model to forecast the next k values\n",
        "    last_k_values = numbers[-k:]  # Get the last 'k' observed values\n",
        "    forecasted_values = []\n",
        "    for _ in range(k):\n",
        "        input_data = np.reshape(last_k_values, (1, k))  # Reshape the data to fit the model's input shape\n",
        "        next_value = model.predict(input_data)  # Use the model to forecast the next value\n",
        "        forecasted_values.append(next_value[0, 0])  # Append the forecasted value to the list of forecasted values\n",
        "        last_k_values = np.append(last_k_values[1:], next_value[0, 0])  # Update the last 'k' observed values\n",
        "\n",
        "    return forecasted_values"
      ]
    },
    {
      "cell_type": "code",
      "execution_count": 64,
      "id": "d284c48a",
      "metadata": {
        "colab": {
          "base_uri": "https://localhost:8080/"
        },
        "id": "d284c48a",
        "outputId": "ad388838-c1e7-4d1f-eef1-d92f2bec9779"
      },
      "outputs": [
        {
          "output_type": "stream",
          "name": "stdout",
          "text": [
            "[[0.   0.01 0.02]\n",
            " [0.01 0.02 0.03]\n",
            " [0.02 0.03 0.04]\n",
            " [0.03 0.04 0.05]\n",
            " [0.04 0.05 0.06]\n",
            " [0.05 0.06 0.07]\n",
            " [0.06 0.07 0.08]\n",
            " [0.07 0.08 0.09]\n",
            " [0.08 0.09 0.1 ]\n",
            " [0.09 0.1  0.11]\n",
            " [0.1  0.11 0.12]\n",
            " [0.11 0.12 0.13]\n",
            " [0.12 0.13 0.14]\n",
            " [0.13 0.14 0.15]\n",
            " [0.14 0.15 0.16]\n",
            " [0.15 0.16 0.17]\n",
            " [0.16 0.17 0.18]\n",
            " [0.17 0.18 0.19]\n",
            " [0.18 0.19 0.2 ]\n",
            " [0.19 0.2  0.21]\n",
            " [0.2  0.21 0.22]\n",
            " [0.21 0.22 0.23]\n",
            " [0.22 0.23 0.24]\n",
            " [0.23 0.24 0.25]\n",
            " [0.24 0.25 0.26]\n",
            " [0.25 0.26 0.27]\n",
            " [0.26 0.27 0.28]\n",
            " [0.27 0.28 0.29]\n",
            " [0.28 0.29 0.3 ]\n",
            " [0.29 0.3  0.31]\n",
            " [0.3  0.31 0.32]\n",
            " [0.31 0.32 0.33]\n",
            " [0.32 0.33 0.34]\n",
            " [0.33 0.34 0.35]\n",
            " [0.34 0.35 0.36]\n",
            " [0.35 0.36 0.37]\n",
            " [0.36 0.37 0.38]\n",
            " [0.37 0.38 0.39]\n",
            " [0.38 0.39 0.4 ]\n",
            " [0.39 0.4  0.41]\n",
            " [0.4  0.41 0.42]\n",
            " [0.41 0.42 0.43]\n",
            " [0.42 0.43 0.44]\n",
            " [0.43 0.44 0.45]\n",
            " [0.44 0.45 0.46]\n",
            " [0.45 0.46 0.47]\n",
            " [0.46 0.47 0.48]\n",
            " [0.47 0.48 0.49]\n",
            " [0.48 0.49 0.5 ]\n",
            " [0.49 0.5  0.51]\n",
            " [0.5  0.51 0.52]\n",
            " [0.51 0.52 0.53]\n",
            " [0.52 0.53 0.54]\n",
            " [0.53 0.54 0.55]\n",
            " [0.54 0.55 0.56]\n",
            " [0.55 0.56 0.57]\n",
            " [0.56 0.57 0.58]\n",
            " [0.57 0.58 0.59]\n",
            " [0.58 0.59 0.6 ]\n",
            " [0.59 0.6  0.61]\n",
            " [0.6  0.61 0.62]\n",
            " [0.61 0.62 0.63]\n",
            " [0.62 0.63 0.64]\n",
            " [0.63 0.64 0.65]\n",
            " [0.64 0.65 0.66]\n",
            " [0.65 0.66 0.67]\n",
            " [0.66 0.67 0.68]\n",
            " [0.67 0.68 0.69]\n",
            " [0.68 0.69 0.7 ]\n",
            " [0.69 0.7  0.71]\n",
            " [0.7  0.71 0.72]\n",
            " [0.71 0.72 0.73]\n",
            " [0.72 0.73 0.74]\n",
            " [0.73 0.74 0.75]\n",
            " [0.74 0.75 0.76]\n",
            " [0.75 0.76 0.77]\n",
            " [0.76 0.77 0.78]\n",
            " [0.77 0.78 0.79]\n",
            " [0.78 0.79 0.8 ]\n",
            " [0.79 0.8  0.81]\n",
            " [0.8  0.81 0.82]\n",
            " [0.81 0.82 0.83]\n",
            " [0.82 0.83 0.84]\n",
            " [0.83 0.84 0.85]\n",
            " [0.84 0.85 0.86]\n",
            " [0.85 0.86 0.87]\n",
            " [0.86 0.87 0.88]\n",
            " [0.87 0.88 0.89]\n",
            " [0.88 0.89 0.9 ]\n",
            " [0.89 0.9  0.91]\n",
            " [0.9  0.91 0.92]\n",
            " [0.91 0.92 0.93]\n",
            " [0.92 0.93 0.94]\n",
            " [0.93 0.94 0.95]\n",
            " [0.94 0.95 0.96]\n",
            " [0.95 0.96 0.97]\n",
            " [0.96 0.97 0.98]]\n",
            "[0.03 0.04 0.05 0.06 0.07 0.08 0.09 0.1  0.11 0.12 0.13 0.14 0.15 0.16\n",
            " 0.17 0.18 0.19 0.2  0.21 0.22 0.23 0.24 0.25 0.26 0.27 0.28 0.29 0.3\n",
            " 0.31 0.32 0.33 0.34 0.35 0.36 0.37 0.38 0.39 0.4  0.41 0.42 0.43 0.44\n",
            " 0.45 0.46 0.47 0.48 0.49 0.5  0.51 0.52 0.53 0.54 0.55 0.56 0.57 0.58\n",
            " 0.59 0.6  0.61 0.62 0.63 0.64 0.65 0.66 0.67 0.68 0.69 0.7  0.71 0.72\n",
            " 0.73 0.74 0.75 0.76 0.77 0.78 0.79 0.8  0.81 0.82 0.83 0.84 0.85 0.86\n",
            " 0.87 0.88 0.89 0.9  0.91 0.92 0.93 0.94 0.95 0.96 0.97 0.98 0.99]\n",
            "1/1 [==============================] - 0s 54ms/step\n",
            "1/1 [==============================] - 0s 22ms/step\n",
            "1/1 [==============================] - 0s 21ms/step\n"
          ]
        },
        {
          "output_type": "execute_result",
          "data": {
            "text/plain": [
              "[0.99992824, 1.0099255, 1.0198747]"
            ]
          },
          "metadata": {},
          "execution_count": 64
        }
      ],
      "source": [
        "# Example:\n",
        "\n",
        "data = [i/100 for i in range(100)]\n",
        "k = 3\n",
        "\n",
        "forecast_next_values(data, k)"
      ]
    },
    {
      "cell_type": "markdown",
      "id": "733c29fa",
      "metadata": {
        "id": "733c29fa"
      },
      "source": [
        "# Exercise 9:\n",
        "\n",
        "Read up on how the feed-forward neural network works and discuss it with fellow participants."
      ]
    },
    {
      "cell_type": "markdown",
      "id": "7b38d032",
      "metadata": {
        "id": "7b38d032"
      },
      "source": [
        "# Exercise 10:\n",
        "\n",
        "This one will require some experimentation. Design a data set for which a properly calibrated feed-forward neural network gives better results than any of the previous forecasting methods."
      ]
    },
    {
      "cell_type": "markdown",
      "id": "a20c6153",
      "metadata": {
        "id": "a20c6153"
      },
      "source": [
        "# Long Short Term Memory Neural Network (LSTM)\n",
        "\n",
        "This LSTM model is expected to be more effective than a simple feed-forward network due to its ability to remember important information about the input it receives over time. This \"memory\" of past inputs can help it understand and predict patterns in the time series more accurately. LSTM networks are specifically designed to avoid the long-term dependency problem, remembering information for long periods of time, which is an advantage for time-series forecasting.\n",
        "\n",
        "Please note that to improve the model's accuracy further, you would typically use a larger dataset, tune the model's hyperparameters (like the number of hidden units, the learning rate, etc.), use a more sophisticated architecture (like stacking LSTM layers), and use techniques to prevent overfitting (like dropout or regularization).\n",
        "\n",
        "Also, be aware that even though LSTM networks are generally more powerful for this kind of task, they may also take longer to train, and they might not always outperform simpler models depending on the complexity and characteristics of the specific data you're working with. It's always a good idea to try different approaches and see what works best for your specific use case."
      ]
    },
    {
      "cell_type": "markdown",
      "id": "57f4986c",
      "metadata": {
        "id": "57f4986c"
      },
      "source": [
        "# Detailed code description:\n",
        "\n",
        "This code is designed to forecast a sequence of numbers using an LSTM (Long Short-Term Memory) neural network. It comprises of two main functions:\n",
        "\n",
        "create_dataset(numbers, k): This function takes in a list of numbers (forming a time series) and an integer 'k'. It creates and returns two numpy arrays: dataX (input sequences for the LSTM model) and dataY (the corresponding target value for each input sequence). For each i in range len(numbers)-k-1, it takes a sequence of 'k' numbers from the list numbers and appends it to dataX, and it appends the next value (the target for the LSTM to learn to predict) in the sequence to dataY.\n",
        "\n",
        "forecast_next_values_lstm(numbers, k): This function trains an LSTM neural network on the sequence of numbers to forecast the next 'k' values in the series.\n",
        "\n",
        "The LSTM model is created as follows:\n",
        "\n",
        "An LSTM layer with 50 units, using a ReLU activation function. The input shape is (1, k), meaning that each input example is a sequence of 'k' numbers.\n",
        "A Dense layer with one unit, corresponding to the one-step-ahead forecast that the model will learn to make.\n",
        "After defining the architecture, the model is compiled using the Adam optimization algorithm and the mean squared error loss function, which is suitable for a regression problem like ours. The model is then trained on the prepared data using model.fit().\n",
        "\n",
        "After training the model, it's used to forecast the next 'k' values in the sequence. For each of these 'k' steps, it takes the last 'k' observed values (which initially are the last 'k' values in the original series, but later include values that the model has forecasted), reshapes them into the required input shape for the LSTM, and uses the LSTM to forecast the next value. This forecasted value is then appended to the list of forecasted values and added to the list of observed values, so it can be used in forecasting the next value.\n",
        "\n",
        "Finally, the function returns the list of forecasted values.\n",
        "\n",
        "Throughout this code, a few data transformations are performed to prepare the data for the LSTM. Firstly, the data is normalized to fall within the range 0-1, as this can often help the neural network to learn more effectively. The data is also reshaped at various points to match the input/output formats expected by the LSTM and the Scikit-learn functions. At the end of the process, the forecasted values are denormalized (i.e., transformed back to their original scale) before being returned."
      ]
    },
    {
      "cell_type": "code",
      "execution_count": null,
      "id": "cd5f6fa0",
      "metadata": {
        "id": "cd5f6fa0"
      },
      "outputs": [],
      "source": [
        "import numpy as np\n",
        "from tensorflow.keras.models import Sequential\n",
        "from tensorflow.keras.layers import Dense, LSTM\n",
        "\n",
        "def create_dataset(numbers, k):\n",
        "    \"\"\"\n",
        "    Helper function to convert array of numbers into dataset matrix\n",
        "\n",
        "    Args:\n",
        "    numbers (list): List of numbers forming a time series.\n",
        "    k (int): The number of past values to use for predicting future value\n",
        "\n",
        "    Returns:\n",
        "    dataX (list): The list of input sequences.\n",
        "    dataY (list): The list of outputs for each input sequence.\n",
        "    \"\"\"\n",
        "    dataX, dataY = [], []\n",
        "    for i in range(len(numbers)-k-1):\n",
        "        a = numbers[i:(i+k)]\n",
        "        dataX.append(a)\n",
        "        dataY.append(numbers[i + k])\n",
        "    return np.array(dataX), np.array(dataY)\n",
        "\n",
        "def forecast_next_values_lstm(numbers, k):\n",
        "    \"\"\"\n",
        "    This function trains an LSTM neural network on a sequence of numbers to forecast the next 'k' values\n",
        "    in the series.\n",
        "\n",
        "    Args:\n",
        "    numbers (list): List of numbers forming a time series.\n",
        "    k (int): The number of future values to predict.\n",
        "\n",
        "    Returns:\n",
        "    forecasted_values (list): The forecasted future 'k' values.\n",
        "    \"\"\"\n",
        "\n",
        "    # Prepare the data for LSTM\n",
        "    numbers = np.array(numbers, dtype=float)\n",
        "    numbers = np.reshape(numbers, (-1,1))\n",
        "    numbers = numbers / np.max(numbers)  # normalization\n",
        "\n",
        "    # Prepare the dataset\n",
        "    X, y = create_dataset(numbers, k)\n",
        "    X = np.reshape(X, (X.shape[0], 1, X.shape[1]))  # reshape for LSTM\n",
        "\n",
        "    # Create the LSTM model\n",
        "    model = Sequential()\n",
        "    model.add(LSTM(50, activation='relu', input_shape=(1, k)))  # LSTM layer with 50 units\n",
        "    model.add(Dense(1))  # Output layer\n",
        "\n",
        "    # Compile the model with MSE as the loss function and Adam optimizer\n",
        "    model.compile(loss='mean_squared_error', optimizer='adam')\n",
        "\n",
        "    # Train the model\n",
        "    model.fit(X, y, epochs=1000, verbose=0)\n",
        "\n",
        "    # Use the model to forecast the next k values\n",
        "    forecasted_values = []\n",
        "    for _ in range(k):\n",
        "        input_data = np.array(numbers[-k:], dtype=float)  # Get the last 'k' observed values\n",
        "        input_data = np.reshape(input_data, (1, 1, k))  # Reshape for LSTM\n",
        "        next_value = model.predict(input_data)  # Use the model to forecast the next value\n",
        "        forecasted_values.append(next_value[0, 0])  # Append the forecasted value to the list of forecasted values\n",
        "        numbers = np.append(numbers, next_value)  # Add the forecasted value to the list of numbers\n",
        "\n",
        "    return np.array(forecasted_values) * np.max(numbers)  # reverse normalization\n"
      ]
    },
    {
      "cell_type": "code",
      "execution_count": null,
      "id": "93d0e3f0",
      "metadata": {
        "id": "93d0e3f0",
        "outputId": "e4400ee0-fabe-4023-bf55-873de977d00a"
      },
      "outputs": [
        {
          "name": "stdout",
          "output_type": "stream",
          "text": [
            "1/1 [==============================] - 0s 41ms/step\n",
            "1/1 [==============================] - 0s 6ms/step\n",
            "1/1 [==============================] - 0s 5ms/step\n",
            "1/1 [==============================] - 0s 5ms/step\n",
            "1/1 [==============================] - 0s 5ms/step\n",
            "1/1 [==============================] - 0s 6ms/step\n",
            "1/1 [==============================] - 0s 5ms/step\n",
            "1/1 [==============================] - 0s 6ms/step\n",
            "1/1 [==============================] - 0s 5ms/step\n",
            "1/1 [==============================] - 0s 5ms/step\n",
            "1/1 [==============================] - 0s 5ms/step\n",
            "1/1 [==============================] - 0s 5ms/step\n",
            "1/1 [==============================] - 0s 5ms/step\n",
            "1/1 [==============================] - 0s 6ms/step\n",
            "1/1 [==============================] - 0s 5ms/step\n",
            "1/1 [==============================] - 0s 5ms/step\n",
            "1/1 [==============================] - 0s 5ms/step\n",
            "1/1 [==============================] - 0s 5ms/step\n",
            "1/1 [==============================] - 0s 5ms/step\n",
            "1/1 [==============================] - 0s 5ms/step\n",
            "1/1 [==============================] - 0s 5ms/step\n",
            "1/1 [==============================] - 0s 5ms/step\n",
            "1/1 [==============================] - 0s 5ms/step\n",
            "1/1 [==============================] - 0s 5ms/step\n",
            "1/1 [==============================] - 0s 5ms/step\n",
            "1/1 [==============================] - 0s 5ms/step\n",
            "1/1 [==============================] - 0s 5ms/step\n",
            "1/1 [==============================] - 0s 5ms/step\n",
            "1/1 [==============================] - 0s 5ms/step\n",
            "1/1 [==============================] - 0s 6ms/step\n",
            "1/1 [==============================] - 0s 5ms/step\n",
            "1/1 [==============================] - 0s 5ms/step\n",
            "1/1 [==============================] - 0s 5ms/step\n",
            "1/1 [==============================] - 0s 5ms/step\n",
            "1/1 [==============================] - 0s 5ms/step\n",
            "1/1 [==============================] - 0s 5ms/step\n",
            "1/1 [==============================] - 0s 5ms/step\n",
            "1/1 [==============================] - 0s 5ms/step\n",
            "1/1 [==============================] - 0s 5ms/step\n",
            "1/1 [==============================] - 0s 5ms/step\n",
            "1/1 [==============================] - 0s 5ms/step\n",
            "1/1 [==============================] - 0s 5ms/step\n",
            "1/1 [==============================] - 0s 5ms/step\n",
            "1/1 [==============================] - 0s 5ms/step\n",
            "1/1 [==============================] - 0s 5ms/step\n",
            "1/1 [==============================] - 0s 5ms/step\n",
            "1/1 [==============================] - 0s 5ms/step\n",
            "1/1 [==============================] - 0s 5ms/step\n",
            "1/1 [==============================] - 0s 6ms/step\n",
            "1/1 [==============================] - 0s 5ms/step\n",
            "[-0.21640672 -0.16675901 -0.11790852 -0.06776758 -0.01774347  0.03297893\n",
            "  0.08285421  0.13287133  0.1823591   0.23081048  0.27921227  0.3267297\n",
            "  0.37350413  0.41922227  0.46402878  0.5079881   0.55046844  0.5912094\n",
            "  0.63132125  0.66881824  0.7047193   0.73911434  0.7717174   0.8025721\n",
            "  0.8312333   0.8579382   0.88229847  0.90437514  0.92448366  0.94201773\n",
            "  0.9572613   0.97017765  0.9805341   0.98850805  0.9941037   0.99723667\n",
            "  0.9978088   0.99586916  0.9914228   0.98447365  0.9749621   0.96299666\n",
            "  0.9487567   0.93211764  0.91312236  0.89187896  0.8683468   0.8428012\n",
            "  0.8149647   0.7851617 ]\n"
          ]
        },
        {
          "data": {
            "image/png": "[encoded data removed]",
            "text/plain": [
              "<Figure size 1000x600 with 1 Axes>"
            ]
          },
          "metadata": {},
          "output_type": "display_data"
        }
      ],
      "source": [
        "# Example:\n",
        "\n",
        "import numpy as np\n",
        "import matplotlib.pyplot as plt\n",
        "\n",
        "# Generate a sequence of numbers that follows a sine wave\n",
        "numbers = [np.sin(i) for i in np.linspace(0, 50, 1000)]  # 1000 numbers between 0 and 50\n",
        "\n",
        "# Use our function to predict the next 50 values\n",
        "k = 50\n",
        "predicted_values = forecast_next_values_lstm(numbers, k)\n",
        "\n",
        "# Print the predicted values\n",
        "print(predicted_values)\n",
        "\n",
        "# Visualize the actual and predicted values\n",
        "plt.figure(figsize=(10, 6))\n",
        "plt.plot(numbers, label='Actual')\n",
        "plt.plot(range(len(numbers), len(numbers) + k), predicted_values, label='Predicted')\n",
        "plt.legend()\n",
        "plt.show()"
      ]
    },
    {
      "cell_type": "markdown",
      "id": "a83b086c",
      "metadata": {
        "id": "a83b086c"
      },
      "source": [
        "# Exercise 11:\n",
        "\n",
        "Read up on the theory behind LSTMs and discuss it with fellow participants."
      ]
    },
    {
      "cell_type": "markdown",
      "id": "212ba5f6",
      "metadata": {
        "id": "212ba5f6"
      },
      "source": [
        "# Exercise 12:\n",
        "\n",
        "Experiment extensively with the LSTM above and come up with data sets where it yields accurate forecasts, and also those where it does not. Please keep in mind that setting hyperparameters is tricky, and even identifying those parameters in the code takes some work."
      ]
    },
    {
      "cell_type": "markdown",
      "id": "b6e06305",
      "metadata": {
        "id": "b6e06305"
      },
      "source": [
        "# PyTorch Forecasting Engine\n",
        "\n",
        "The provided code implements a PyTorch neural network-based model for forecasting the next values in a given sequence of data. It consists of a NeuralNetwork class that defines the architecture of the neural network and a forecast_next_values function that utilizes the neural network to generate forecasts.\n",
        "\n",
        "The NeuralNetwork class is a subclass of PyTorch's nn.Module. It initializes the network with a hidden linear layer, ReLU activation function, and an output linear layer. The forward method performs the forward pass through the network, applying the linear transformations and activation function to generate the output.\n",
        "\n",
        "The forecast_next_values function takes in a sequence of data and a parameter k, which specifies the number of values to forecast. It first checks if the length of the data is sufficient for forecasting. Then, it converts the data into PyTorch tensors and defines the neural network model. The function uses mean squared error (MSE) loss as the loss function and Adam optimizer for training. It iterates through a specified number of epochs, updating the model parameters based on the loss. Finally, it generates forecasts for the next k values by iteratively predicting the next value and updating the input sequence.\n",
        "\n",
        "Difference from TensorFlow:\n",
        "\n",
        "PyTorch and TensorFlow are both popular deep learning frameworks, but they have some differences in terms of design principles and APIs.\n",
        "\n",
        "Computational Graphs: TensorFlow uses a static computational graph, where the graph structure is defined upfront and data flows through it during execution. On the other hand, PyTorch uses a dynamic computational graph, allowing the graph to be defined and modified on the fly during execution. This dynamic nature of PyTorch enables easier debugging and more flexible network construction.\n",
        "\n",
        "API and Ease of Use: TensorFlow's API is often considered more complex and low-level compared to PyTorch. TensorFlow requires users to explicitly define placeholders and sessions, and the code can be more verbose. In contrast, PyTorch offers a more intuitive and Pythonic API that is easier to understand and use. PyTorch's API resembles NumPy and provides a more immediate and interactive programming experience.\n",
        "\n",
        "Ecosystem and Community: TensorFlow has a larger user base and a more extensive ecosystem due to its early adoption and strong support from Google. It offers a wide range of pre-trained models, tools, and libraries for various tasks. PyTorch, while growing rapidly, has a relatively smaller ecosystem but has gained popularity, especially among researchers, for its flexibility and ease of use.\n",
        "\n",
        "Deployment and Production: TensorFlow has a stronger focus on deployment and production environments. It provides tools like TensorFlow Serving, TensorFlow Lite, and TensorFlow.js, which facilitate deploying models on different platforms and devices. PyTorch, while also capable of deployment, has a more research-oriented focus and may require additional steps or third-party libraries for deployment.\n",
        "\n",
        "Overall, PyTorch and TensorFlow have different design philosophies and programming interfaces, catering to different preferences and use cases."
      ]
    },
    {
      "cell_type": "code",
      "execution_count": null,
      "id": "c5698195",
      "metadata": {
        "id": "c5698195"
      },
      "outputs": [],
      "source": [
        "import torch\n",
        "import torch.nn as nn\n",
        "import torch.optim as optim\n",
        "\n",
        "class NeuralNetwork(nn.Module):\n",
        "    \"\"\"\n",
        "    NeuralNetwork is a PyTorch module for forecasting the next values based on a given sequence of data.\n",
        "\n",
        "    Args:\n",
        "        input_size (int): The size of the input features.\n",
        "        hidden_size (int): The number of units in the hidden layer.\n",
        "        output_size (int): The size of the output.\n",
        "\n",
        "    Attributes:\n",
        "        hidden (torch.nn.Linear): The linear transformation for the hidden layer.\n",
        "        relu (torch.nn.ReLU): The ReLU activation function.\n",
        "        output (torch.nn.Linear): The linear transformation for the output layer.\n",
        "    \"\"\"\n",
        "\n",
        "    def __init__(self, input_size, hidden_size, output_size):\n",
        "        super(NeuralNetwork, self).__init__()\n",
        "        self.hidden = nn.Linear(input_size, hidden_size)\n",
        "        self.relu = nn.ReLU()\n",
        "        self.output = nn.Linear(hidden_size, output_size)\n",
        "\n",
        "    def forward(self, x):\n",
        "        \"\"\"\n",
        "        Perform forward pass through the neural network.\n",
        "\n",
        "        Args:\n",
        "            x (torch.Tensor): The input tensor.\n",
        "\n",
        "        Returns:\n",
        "            torch.Tensor: The output tensor.\n",
        "        \"\"\"\n",
        "        x = self.hidden(x)\n",
        "        x = self.relu(x)\n",
        "        x = self.output(x)\n",
        "        return x\n",
        "\n",
        "def forecast_next_values(data, k):\n",
        "    \"\"\"\n",
        "    Forecast the next 'k' values based on the given 'data' sequence.\n",
        "\n",
        "    Args:\n",
        "        data (List[int or float]): A list of numbers representing the input sequence.\n",
        "        k (int): The number of values to forecast.\n",
        "\n",
        "    Returns:\n",
        "        List[float]: A list of 'k' forecasted values.\n",
        "\n",
        "    Raises:\n",
        "        ValueError: If the length of 'data' is less than 'k'.\n",
        "    \"\"\"\n",
        "\n",
        "    if len(data) < k:\n",
        "        raise ValueError(\"Insufficient data for forecasting.\")\n",
        "\n",
        "    # Convert the data into PyTorch tensors\n",
        "    input_data = torch.tensor(data[:-k]).unsqueeze(1).float()\n",
        "    target_data = torch.tensor(data[k:]).unsqueeze(1).float()\n",
        "\n",
        "    # Define the model and loss function\n",
        "    input_size = 1  # Assuming the input consists of single numbers\n",
        "    hidden_size = 64  # Number of hidden units\n",
        "    output_size = 1  # The model outputs single numbers\n",
        "    model = NeuralNetwork(input_size, hidden_size, output_size)\n",
        "    criterion = nn.MSELoss()\n",
        "\n",
        "    # Define the optimizer\n",
        "    optimizer = optim.Adam(model.parameters(), lr=0.01)\n",
        "\n",
        "    # Training loop\n",
        "    num_epochs = 1000  # Number of training iterations\n",
        "    for epoch in range(num_epochs):\n",
        "        optimizer.zero_grad()\n",
        "        output = model(input_data)\n",
        "        loss = criterion(output, target_data)\n",
        "        loss.backward()\n",
        "        optimizer.step()\n",
        "\n",
        "    # Generate forecasts for the next k values\n",
        "    with torch.no_grad():\n",
        "        input_data = torch.tensor(data[-k:]).unsqueeze(1).float()\n",
        "        forecasts = []\n",
        "        for _ in range(k):\n",
        "            output = model(input_data)\n",
        "            forecast = output[-1].item()  # Extract the last scalar value from the tensor\n",
        "            forecasts.append(forecast)\n",
        "            input_data = torch.cat((input_data[1:], torch.tensor([[forecast]])), dim=0)\n",
        "\n",
        "    return forecasts\n"
      ]
    },
    {
      "cell_type": "code",
      "execution_count": null,
      "id": "c3fddbbf",
      "metadata": {
        "id": "c3fddbbf",
        "outputId": "5dbf1076-5638-4415-febe-03f28f37b632"
      },
      "outputs": [
        {
          "name": "stdout",
          "output_type": "stream",
          "text": [
            "[13.29096508026123, 17.2159423828125, 21.897075653076172]\n"
          ]
        }
      ],
      "source": [
        "# Example\n",
        "\n",
        "data = [1, 2, 3, 4, 5, 6, 7, 8, 9, 10]\n",
        "k = 3\n",
        "forecasts = forecast_next_values(data, k)\n",
        "print(forecasts)  # Output: [11.0, 12.0, 13.0]\n"
      ]
    },
    {
      "cell_type": "code",
      "execution_count": null,
      "id": "87c3bc2e",
      "metadata": {
        "id": "87c3bc2e"
      },
      "outputs": [],
      "source": []
    }
  ],
  "metadata": {
    "kernelspec": {
      "display_name": "Python 3 (ipykernel)",
      "language": "python",
      "name": "python3"
    },
    "language_info": {
      "codemirror_mode": {
        "name": "ipython",
        "version": 3
      },
      "file_extension": ".py",
      "mimetype": "text/x-python",
      "name": "python",
      "nbconvert_exporter": "python",
      "pygments_lexer": "ipython3",
      "version": "3.10.9"
    },
    "colab": {
      "provenance": [],
      "include_colab_link": true
    }
  },
  "nbformat": 4,
  "nbformat_minor": 5
}